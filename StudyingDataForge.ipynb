{
 "cells": [
  {
   "cell_type": "code",
   "execution_count": 1,
   "id": "53615714",
   "metadata": {},
   "outputs": [
    {
     "name": "stdout",
     "output_type": "stream",
     "text": [
      "Welcome to JupyROOT 6.24/07\n"
     ]
    }
   ],
   "source": [
    "import h5py\n",
    "import numpy as np\n",
    "import ROOT as r"
   ]
  },
  {
   "cell_type": "code",
   "execution_count": 1,
   "id": "ebe3e295",
   "metadata": {},
   "outputs": [],
   "source": [
    "import matplotlib.pyplot as plt"
   ]
  },
  {
   "cell_type": "code",
   "execution_count": 3,
   "id": "b42b87ea",
   "metadata": {},
   "outputs": [],
   "source": [
    "%jsroot on"
   ]
  },
  {
   "cell_type": "code",
   "execution_count": 4,
   "id": "38ee0e0c",
   "metadata": {},
   "outputs": [],
   "source": [
    "import tqdm"
   ]
  },
  {
   "cell_type": "code",
   "execution_count": 5,
   "id": "4b745160",
   "metadata": {},
   "outputs": [],
   "source": [
    "SIGNAL_PDG_ID = 1000006\n",
    "MAX_ETA = 2.3\n",
    "N_JET_MAX = 12\n",
    "N_FEAT = 14\n",
    "N_PART_PER_JET = 10\n",
    "DELTA_R_MATCH = 0.4\n",
    "\n",
    "r.gROOT.SetBatch(1)"
   ]
  },
  {
   "cell_type": "code",
   "execution_count": 6,
   "id": "794fce86",
   "metadata": {},
   "outputs": [],
   "source": [
    "inFile = r.TFile.Open(\"root://cmsxrootd.fnal.gov///store/user/aaportel/john_files/DisplacedSUSY_stopToBottom_M_800_500mm_TuneCP5_14TeV_pythia8/RespNtuple_DisplacedSUSY_stopToBottom_M_800_500mm_TuneCP5_14TeV_pythia8/220404_193558/0000/pfTuple_100.root\", \"READ\")"
   ]
  },
  {
   "cell_type": "code",
   "execution_count": 8,
   "id": "862d913c",
   "metadata": {},
   "outputs": [],
   "source": [
    "#inFile = r.TFile.Open(\"root://cmseos.fnal.gov///store/user/mequinna/file4russell_2.root\", \"READ\")"
   ]
  },
  {
   "cell_type": "code",
   "execution_count": 9,
   "id": "ec66ab70",
   "metadata": {},
   "outputs": [],
   "source": [
    " tree = inFile.Get(\"ntuple0/objects\")"
   ]
  },
  {
   "cell_type": "code",
   "execution_count": 10,
   "id": "ef5d4955",
   "metadata": {},
   "outputs": [],
   "source": [
    " ver = inFile.Get(\"ntuple0/objects/vz\")"
   ]
  },
  {
   "cell_type": "code",
   "execution_count": null,
   "id": "a7387d2b",
   "metadata": {},
   "outputs": [],
   "source": []
  },
  {
   "cell_type": "code",
   "execution_count": null,
   "id": "bcbb0aaf",
   "metadata": {},
   "outputs": [],
   "source": []
  },
  {
   "cell_type": "code",
   "execution_count": 11,
   "id": "a39e922d",
   "metadata": {},
   "outputs": [
    {
     "name": "stdout",
     "output_type": "stream",
     "text": [
      "======> EVENT:167\n",
      " emcalo          = (vector<pair<TLorentzVector,int> >*)0xa990cf0\n",
      " egcalo          = (vector<pair<TLorentzVector,int> >*)0x9721b30\n",
      " calo            = (vector<pair<TLorentzVector,int> >*)0xa994990\n",
      " pf              = (vector<pair<TLorentzVector,int> >*)0xa98c3a0\n",
      " pup             = (vector<pair<TLorentzVector,int> >*)0xa9cc9e0\n",
      " gen             = (vector<pair<TLorentzVector,int> >*)0xa9cef10\n",
      " l1jet           = (vector<pair<TLorentzVector,int> >*)0x8752730\n",
      " recojet         = (vector<pair<TLorentzVector,int> >*)0xa9ceca0\n",
      " pf_vx           = (vector<float>*)0xa9a0130\n",
      " pf_vy           = (vector<float>*)0x3c33220\n",
      " pf_vz           = (vector<float>*)0xa9dbbe0\n",
      " pup_vx          = (vector<float>*)0xa9fb5b0\n",
      " pup_vy          = (vector<float>*)0xa9aaeb0\n",
      " pup_vz          = (vector<float>*)0xa986f40\n",
      " vz              = (vector<float>*)0x985e050\n"
     ]
    }
   ],
   "source": [
    "tree.Show(167) #tree has 168 events (branches are below). Below is the last branch (when [0, 168))"
   ]
  },
  {
   "cell_type": "code",
   "execution_count": 12,
   "id": "b7746893",
   "metadata": {},
   "outputs": [],
   "source": [
    "eventNum = tree.GetEntries()\n",
    "ptCut = 30\n",
    "jetNum = 0\n",
    "signalPartCount = 0\n",
    "jetPartList = []\n",
    "trainArray = []\n",
    "testArray = []\n",
    "jetFullData = []\n",
    "trainingFullData = []"
   ]
  },
  {
   "cell_type": "code",
   "execution_count": 13,
   "id": "74eb9e41",
   "metadata": {},
   "outputs": [
    {
     "data": {
      "text/plain": [
       "40708"
      ]
     },
     "execution_count": 13,
     "metadata": {},
     "output_type": "execute_result"
    }
   ],
   "source": [
    "eventNum"
   ]
  },
  {
   "cell_type": "code",
   "execution_count": 14,
   "id": "8f4d7cb4",
   "metadata": {},
   "outputs": [],
   "source": [
    "def scalePartType(a, n):\n",
    "    if n == 11:\n",
    "        a.extend((1, 0, 0, 0, 0, 0, 0, 0))  # Electron\n",
    "    elif n == -11:\n",
    "        a.extend((0, 1, 0, 0, 0, 0, 0, 0))  # Positron\n",
    "    elif n == 13:\n",
    "        a.extend((0, 0, 1, 0, 0, 0, 0, 0))  # Muon\n",
    "    elif n == -13:\n",
    "        a.extend((0, 0, 0, 1, 0, 0, 0, 0))  # Anti-Muon\n",
    "    elif n == 22:\n",
    "        a.extend((0, 0, 0, 0, 1, 0, 0, 0))  # Photon\n",
    "    elif n == 130:\n",
    "        a.extend((0, 0, 0, 0, 0, 1, 0, 0))  # Neutral Meson\n",
    "    elif n == 211:\n",
    "        a.extend((0, 0, 0, 0, 0, 0, 1, 0))  # Pion\n",
    "    elif n == -211:\n",
    "        a.extend((0, 0, 0, 0, 0, 0, 0, 1))  # Anti-Pion\n",
    "    else:\n",
    "        a.extend((0, 0, 0, 0, 0, 0, 0, 0))  # Case for unknown particle"
   ]
  },
  {
   "cell_type": "code",
   "execution_count": 15,
   "id": "3ab82498",
   "metadata": {},
   "outputs": [],
   "source": [
    "def signedDeltaPhi(phi1, phi2):\n",
    "    dPhi = phi1 - phi2\n",
    "    if dPhi < -np.pi:\n",
    "        dPhi = 2 * np.pi + dPhi\n",
    "    elif dPhi > np.pi:\n",
    "        dPhi = -2 * np.pi + dPhi\n",
    "    return dPhi"
   ]
  },
  {
   "cell_type": "code",
   "execution_count": 16,
   "id": "f2f631be",
   "metadata": {},
   "outputs": [],
   "source": [
    "jetPartsArray = []\n",
    "jetDataArray = []"
   ]
  },
  {
   "cell_type": "code",
   "execution_count": 17,
   "id": "1540dd16",
   "metadata": {},
   "outputs": [
    {
     "data": {
      "text/plain": [
       "40708"
      ]
     },
     "execution_count": 17,
     "metadata": {},
     "output_type": "execute_result"
    }
   ],
   "source": [
    "eventNum"
   ]
  },
  {
   "cell_type": "code",
   "execution_count": 18,
   "id": "5b4fd6b4",
   "metadata": {},
   "outputs": [
    {
     "name": "stderr",
     "output_type": "stream",
     "text": [
      "\r",
      "  0%|                                                 | 0/40708 [00:00<?, ?it/s]"
     ]
    }
   ],
   "source": [
    " pbar = tqdm.tqdm(range(eventNum))"
   ]
  },
  {
   "cell_type": "code",
   "execution_count": 20,
   "id": "519aa0de",
   "metadata": {},
   "outputs": [],
   "source": [
    "partType = []"
   ]
  },
  {
   "cell_type": "code",
   "execution_count": 21,
   "id": "681255c1",
   "metadata": {},
   "outputs": [
    {
     "name": "stderr",
     "output_type": "stream",
     "text": [
      " 25%|████████▌                          | 10000/40708 [24:52<1:16:24,  6.70it/s]\n"
     ]
    }
   ],
   "source": [
    "for entryNum in pbar: #pbar = 168 events\n",
    "    #if entryNum == 10000: break\n",
    "    #if (entryNum > 0):\n",
    "    #    print(entryNum)\n",
    "    #   break\n",
    "    #print(entryNum)\n",
    "    #pbar.set_description(\"Jets: \" + str(len(jetPartsArray)) + \"; Signal Jets: \" + str(signalPartCount))\n",
    "    #print(\"Entries in the the event: \", tree.GetEntry(entryNum) ) #------>\n",
    "    tree.GetEntry(entryNum)\n",
    "    ver = tree.vz\n",
    "    obj = tree.pf\n",
    "    g = tree.gen\n",
    "    #print(len(g), entryNum)\n",
    "    verPf = tree.pf_vz\n",
    "    verPfX = tree.pf_vx\n",
    "    verPfY = tree.pf_vy\n",
    "    jetNum = 0\n",
    "    \n",
    "    bannedParts = []  # List of indices of particles that have already been used by previous jets\n",
    "    bannedSignalParts = []  # Same deal but with indices within the gen tree corresponding to signal gen particle\n",
    "    \n",
    "  \n",
    "    for i in range(len(obj)):\n",
    "        partType.append(obj[i][1])\n",
    "        jetPartList = []\n",
    "        seedParticle = []\n",
    "        if jetNum >= N_JET_MAX:  # Limited to 12 jets per event at maximum\n",
    "            jetNum = 0\n",
    "            break\n",
    "        \n",
    "        if i not in bannedParts:  # Identifies highest avaiable pT particle to use as seed\n",
    "            tempTLV = obj[i][0]  # Takes TLorentzVector of seed particle to use for jet reconstruction\n",
    "            scalePartType(seedParticle, abs(obj[i][1]))  # One-Hot Encoding Seed Particle Type\n",
    "            \n",
    "            \n",
    "            #I guess for particle 22 and 130, the particle dZ is 0.\n",
    "            if obj[i][1] in [22, 130]:\n",
    "                seedParticle.extend(\n",
    "                    [\n",
    "                        0.0,\n",
    "                        verPfX[i],\n",
    "                        verPfY[i],\n",
    "                        obj[i][0].Pt(),\n",
    "                        obj[i][0].Eta(),\n",
    "                        obj[i][0].Phi(),\n",
    "                      \n",
    "                    ]\n",
    "                )  # Add in dZ, dX, dY, Particle Pt, Eta, & Phi, last 3 features to be scaled later\n",
    "            else:\n",
    "                seedParticle.extend(\n",
    "                    [\n",
    "                        ver[0] - verPf[i],\n",
    "                        verPfX[i],\n",
    "                        verPfY[i],\n",
    "                        obj[i][0].Pt(),\n",
    "                        obj[i][0].Eta(),\n",
    "                        obj[i][0].Phi(),\n",
    "                    \n",
    "                    ]) # Add in dZ, dX, dY, Particle Pt, Eta, & Phi, last 3 features to be scaled later\n",
    "            jetPartList.extend(seedParticle)\n",
    "            #print(jetPartList) #-------->\n",
    "            #print(\"[ One-Hot encoding (7 indices), dZ, dX, dY, Pt Eta, Phi ]\") #---------->\n",
    "            bannedParts.append(i)\n",
    "            #print(bannedParts) #------->\n",
    "            for j in range(len(obj)):\n",
    "                #if j > 0:\n",
    "                #    print(j) # ----->\n",
    "                #    break\n",
    "                partFts = []\n",
    "                \n",
    "                #Below, if new particle within Delta R = 0.4, add T-Lorentz vectors\n",
    "                if (\n",
    "                        obj[i][0].DeltaR(obj[j][0]) <= DELTA_R_MATCH and i != j and (j not in bannedParts)\n",
    "                    ):  # Look for available particles within deltaR<0.4 of seed particle\n",
    "                    \n",
    "                    #print( obj[i][0].DeltaR(obj[j][0])) ## ??? not printing \n",
    "                    #print(DELTA_R_MATCH) #------>\n",
    "                    tempTLV = tempTLV + obj[j][0]  # Add to tempTLV\n",
    "    \n",
    "                    scalePartType(partFts, obj[j][1])  # One-Hot Encoding of this new Particle Type\n",
    "        \n",
    "                    \n",
    "                    if obj[j][1] == 22 or obj[j][1] == 130: #Check if it's those pdg part ID\n",
    "                            partFts.extend(\n",
    "                                [\n",
    "                                    0.0,\n",
    "                                    verPfX[j],\n",
    "                                    verPfY[j],\n",
    "                                    obj[j][0].Pt(),\n",
    "                                    obj[j][0].Eta(),\n",
    "                                    obj[j][0].Phi(),\n",
    "                                ]\n",
    "                            )  # Add in dZ, dX, dY, Particle Pt, Eta, & Phi, last 3 features to be scaled later\n",
    "                    else:\n",
    "                        partFts.extend(\n",
    "                            [\n",
    "                                ver[0] - verPf[j],\n",
    "                                verPfX[j],\n",
    "                                verPfY[j],\n",
    "                                obj[j][0].Pt(),\n",
    "                                obj[j][0].Eta(),\n",
    "                                obj[j][0].Phi(),\n",
    "                            ]\n",
    "                        )\n",
    "                jetPartList.extend(partFts)  # Add particle features to particle list\n",
    "                #print(jetPartList)  #------------>\n",
    "                bannedParts.append(j)  # Mark this particle as unavailable for other jets\n",
    "                #print(bannedParts) #----------->\n",
    "                #print(\"length of jets particle list:\", len(jetPartList) )#---->\n",
    "                #print(\"------------------\")# ------->\n",
    "                if (\n",
    "                        len(jetPartList) >= N_PART_PER_JET * N_FEAT\n",
    "                    ):  # If you reach 10 particles in one jet, break and move on\n",
    "                    break\n",
    "                if abs(tempTLV.Pt()) < ptCut:  # Neglect to save jet if it falls below pT Cut\n",
    "                    break\n",
    "                    \n",
    "                 # Scaling particle pT, Eta, and Phi based on jet pT, Eta, and Phi\n",
    "                c = N_PART_PER_JET + 1\n",
    "                while c < len(jetPartList) - 2:\n",
    "                    jetPartList[c] = jetPartList[c] / tempTLV.Pt()\n",
    "                    jetPartList[c + 1] = tempTLV.Eta() - jetPartList[c + 1]\n",
    "                    tempPhi = jetPartList[c + 2]\n",
    "                    jetPartList[c + 2] = signedDeltaPhi(tempTLV.Phi(), tempPhi)\n",
    "                    c += N_FEAT # move on to next particle in the jet\n",
    "                \n",
    "                while len(jetPartList) < N_PART_PER_JET * N_FEAT:\n",
    "                    jetPartList.append(0)\n",
    "                    \n",
    "                jetPartList.append(0)    \n",
    "                for e in range(len(tree.gen)):\n",
    "                    #print(e)\n",
    "                    if (\n",
    "                    abs(tree.gen[e][1]) == SIGNAL_PDG_ID\n",
    "                    and (e not in bannedSignalParts)\n",
    "                    and abs(tree.gen[e][0].Eta()) < MAX_ETA\n",
    "                    ):\n",
    "                        if tree.gen[e][0].DeltaR(tempTLV) <= DELTA_R_MATCH:\n",
    "                            jetPartList[-1] = 1\n",
    "                            signalPartCount += 1\n",
    "                            s = 1\n",
    "                            bannedSignalParts.append(e)\n",
    "                            break\n",
    "                    else: s = 0 \n",
    "                            \n",
    "                jetPartsArray.append(jetPartList)\n",
    "                jetDataArray.append((tempTLV.Pt(), tempTLV.Eta(), tempTLV.Phi(), tempTLV.M(),  jetPartList[-1]))\n",
    "                \n",
    "                "
   ]
  },
  {
   "cell_type": "markdown",
   "id": "9f8073f4",
   "metadata": {},
   "source": [
    "[One hot encoding, part #       \\][dz, dx,   dy,  pt,        eta           ,     phi]\n"
   ]
  },
  {
   "cell_type": "code",
   "execution_count": 16,
   "id": "0aa0e8ea",
   "metadata": {},
   "outputs": [
    {
     "data": {
      "text/plain": [
       "2"
      ]
     },
     "execution_count": 16,
     "metadata": {},
     "output_type": "execute_result"
    }
   ],
   "source": [
    "len(tree.gen)"
   ]
  },
  {
   "cell_type": "code",
   "execution_count": 45,
   "id": "33d14b4f",
   "metadata": {},
   "outputs": [
    {
     "data": {
      "text/plain": [
       "range(0, 50000)"
      ]
     },
     "execution_count": 45,
     "metadata": {},
     "output_type": "execute_result"
    }
   ],
   "source": [
    "range(eventNum)"
   ]
  },
  {
   "cell_type": "code",
   "execution_count": 70,
   "id": "b70dbacb",
   "metadata": {},
   "outputs": [
    {
     "name": "stdout",
     "output_type": "stream",
     "text": [
      "1000006\n",
      "-1000006\n"
     ]
    }
   ],
   "source": [
    "for e in range(len(tree.gen)):\n",
    "    print(tree.gen[e][1])"
   ]
  },
  {
   "cell_type": "code",
   "execution_count": 69,
   "id": "327470f6",
   "metadata": {},
   "outputs": [
    {
     "data": {
      "text/plain": [
       "318"
      ]
     },
     "execution_count": 69,
     "metadata": {},
     "output_type": "execute_result"
    }
   ],
   "source": [
    "len(tree.pf)"
   ]
  },
  {
   "cell_type": "code",
   "execution_count": 2,
   "id": "1920620d",
   "metadata": {},
   "outputs": [],
   "source": [
    "import pandas as pd"
   ]
  },
  {
   "cell_type": "code",
   "execution_count": 4,
   "id": "1d2404cd",
   "metadata": {},
   "outputs": [],
   "source": [
    "parts = pd.Series(partType)"
   ]
  },
  {
   "cell_type": "code",
   "execution_count": 24,
   "id": "feac76c1",
   "metadata": {},
   "outputs": [
    {
     "data": {
      "text/plain": [
       " 130    1154191\n",
       " 211     819929\n",
       "-211     797958\n",
       " 22      219247\n",
       " 11       21870\n",
       "-11       20612\n",
       " 13        1653\n",
       "-13        1540\n",
       "dtype: int64"
      ]
     },
     "execution_count": 24,
     "metadata": {},
     "output_type": "execute_result"
    }
   ],
   "source": [
    "parts.value_counts()"
   ]
  },
  {
   "cell_type": "code",
   "execution_count": 70,
   "id": "def4ef67",
   "metadata": {},
   "outputs": [
    {
     "data": {
      "text/plain": [
       "Text(0.5, 0, 'counts')"
      ]
     },
     "execution_count": 70,
     "metadata": {},
     "output_type": "execute_result"
    },
    {
     "data": {
      "image/png": "[encoded data removed]",
      "text/plain": [
       "<Figure size 840x600 with 1 Axes>"
      ]
     },
     "metadata": {
      "needs_background": "light"
     },
     "output_type": "display_data"
    }
   ],
   "source": [
    "plt.figure(figsize=(7,5), dpi=120)\n",
    "parts.value_counts().plot(kind=\"barh\")\n",
    "plt.ylabel(\"pdg ID\", fontsize=16)\n",
    "plt.xlabel(\"counts\", fontsize=16)"
   ]
  },
  {
   "cell_type": "markdown",
   "id": "19be327e",
   "metadata": {},
   "source": [
    "From QCD"
   ]
  },
  {
   "cell_type": "code",
   "execution_count": 25,
   "id": "97d92ee7",
   "metadata": {},
   "outputs": [
    {
     "data": {
      "text/plain": [
       "Text(0.5, 0, 'counts')"
      ]
     },
     "execution_count": 25,
     "metadata": {},
     "output_type": "execute_result"
    },
    {
     "data": {
      "image/png": "[encoded data removed]",
      "text/plain": [
       "<Figure size 840x600 with 1 Axes>"
      ]
     },
     "metadata": {
      "needs_background": "light"
     },
     "output_type": "display_data"
    }
   ],
   "source": [
    "plt.figure(figsize=(7,5), dpi=120)\n",
    "parts.value_counts().plot(kind=\"barh\")\n",
    "plt.ylabel(\"pdg ID\", fontsize=16)\n",
    "plt.xlabel(\"counts\", fontsize=16)"
   ]
  },
  {
   "cell_type": "code",
   "execution_count": 58,
   "id": "2bddfaee",
   "metadata": {},
   "outputs": [
    {
     "data": {
      "text/plain": [
       "64"
      ]
     },
     "execution_count": 58,
     "metadata": {},
     "output_type": "execute_result"
    }
   ],
   "source": [
    "signalPartCount"
   ]
  },
  {
   "cell_type": "code",
   "execution_count": 59,
   "id": "968038de",
   "metadata": {},
   "outputs": [
    {
     "data": {
      "text/plain": [
       "318"
      ]
     },
     "execution_count": 59,
     "metadata": {},
     "output_type": "execute_result"
    }
   ],
   "source": [
    "len(obj)"
   ]
  },
  {
   "cell_type": "code",
   "execution_count": 63,
   "id": "12abbc57",
   "metadata": {},
   "outputs": [
    {
     "data": {
      "text/plain": [
       "2"
      ]
     },
     "execution_count": 63,
     "metadata": {},
     "output_type": "execute_result"
    }
   ],
   "source": [
    "len(tree.gen)"
   ]
  },
  {
   "cell_type": "code",
   "execution_count": 54,
   "id": "9ecdef8c",
   "metadata": {},
   "outputs": [
    {
     "data": {
      "text/plain": [
       "166"
      ]
     },
     "execution_count": 54,
     "metadata": {},
     "output_type": "execute_result"
    }
   ],
   "source": [
    "len(jetPartsArray[17])"
   ]
  },
  {
   "cell_type": "code",
   "execution_count": 56,
   "id": "c4e764b9",
   "metadata": {},
   "outputs": [
    {
     "data": {
      "text/plain": [
       "166"
      ]
     },
     "execution_count": 56,
     "metadata": {},
     "output_type": "execute_result"
    }
   ],
   "source": [
    "len(jetPartsArray[17])"
   ]
  },
  {
   "cell_type": "code",
   "execution_count": null,
   "id": "cb560efa",
   "metadata": {},
   "outputs": [],
   "source": [
    "[l[2:4] for l in infoL[:]]"
   ]
  },
  {
   "cell_type": "code",
   "execution_count": null,
   "id": "9c7a893d",
   "metadata": {},
   "outputs": [],
   "source": []
  },
  {
   "cell_type": "code",
   "execution_count": null,
   "id": "bcd412d5",
   "metadata": {},
   "outputs": [],
   "source": []
  },
  {
   "cell_type": "code",
   "execution_count": 42,
   "id": "0d4fb806",
   "metadata": {},
   "outputs": [
    {
     "data": {
      "text/plain": [
       "166"
      ]
     },
     "execution_count": 42,
     "metadata": {},
     "output_type": "execute_result"
    }
   ],
   "source": [
    "len(jetPartsArray[17])"
   ]
  },
  {
   "cell_type": "code",
   "execution_count": 84,
   "id": "210b9ae0",
   "metadata": {},
   "outputs": [],
   "source": [
    "#jetPartsArray[0]"
   ]
  },
  {
   "cell_type": "code",
   "execution_count": 49,
   "id": "c7e3fe54",
   "metadata": {},
   "outputs": [
    {
     "data": {
      "text/plain": [
       "141"
      ]
     },
     "execution_count": 49,
     "metadata": {},
     "output_type": "execute_result"
    }
   ],
   "source": [
    "len(jetPartsArray[2])"
   ]
  },
  {
   "cell_type": "code",
   "execution_count": 101,
   "id": "9c6be412",
   "metadata": {},
   "outputs": [
    {
     "name": "stdout",
     "output_type": "stream",
     "text": [
      "0\n",
      "1\n"
     ]
    }
   ],
   "source": [
    "for e in range(len(tree.gen)):\n",
    "    print(e)\n",
    "    if (\n",
    "    abs(tree.gen[e][1]) == SIGNAL_PDG_ID\n",
    "    and (e not in bannedSignalParts)\n",
    "    and abs(tree.gen[e][0].Eta()) < MAX_ETA\n",
    "    ):\n",
    "        if tree.gen[e][0].DeltaR(tempTLV) <= DELTA_R_MATCH:\n",
    "            jetPartList[-1] = 1\n",
    "            signalPartCount += 1\n",
    "            bannedSignalParts.append(e)\n",
    "            break"
   ]
  },
  {
   "cell_type": "code",
   "execution_count": 102,
   "id": "508680c0",
   "metadata": {},
   "outputs": [
    {
     "data": {
      "text/plain": [
       "0"
      ]
     },
     "execution_count": 102,
     "metadata": {},
     "output_type": "execute_result"
    }
   ],
   "source": [
    "signalPartCount"
   ]
  },
  {
   "cell_type": "code",
   "execution_count": 85,
   "id": "8fac9420",
   "metadata": {},
   "outputs": [
    {
     "data": {
      "text/plain": [
       "[]"
      ]
     },
     "execution_count": 85,
     "metadata": {},
     "output_type": "execute_result"
    }
   ],
   "source": [
    " bannedSignalParts"
   ]
  },
  {
   "cell_type": "code",
   "execution_count": null,
   "id": "0cfa10f9",
   "metadata": {},
   "outputs": [],
   "source": [
    "obj[0][0].DeltaR([0][0])"
   ]
  },
  {
   "cell_type": "code",
   "execution_count": null,
   "id": "cd925a67",
   "metadata": {},
   "outputs": [],
   "source": [
    "obj"
   ]
  },
  {
   "cell_type": "code",
   "execution_count": 1,
   "id": "40e16629",
   "metadata": {},
   "outputs": [
    {
     "ename": "NameError",
     "evalue": "name 'tree' is not defined",
     "output_type": "error",
     "traceback": [
      "\u001b[0;31m---------------------------------------------------------------------------\u001b[0m",
      "\u001b[0;31mNameError\u001b[0m                                 Traceback (most recent call last)",
      "\u001b[0;32m/tmp/russelld/ipykernel_30850/1808814261.py\u001b[0m in \u001b[0;36m<module>\u001b[0;34m\u001b[0m\n\u001b[0;32m----> 1\u001b[0;31m \u001b[0mtree\u001b[0m\u001b[0;34m.\u001b[0m\u001b[0mGetEntry\u001b[0m\u001b[0;34m(\u001b[0m\u001b[0;36m0\u001b[0m\u001b[0;34m)\u001b[0m\u001b[0;34m\u001b[0m\u001b[0;34m\u001b[0m\u001b[0m\n\u001b[0m",
      "\u001b[0;31mNameError\u001b[0m: name 'tree' is not defined"
     ]
    }
   ],
   "source": [
    " tree.GetEntry(0)"
   ]
  },
  {
   "cell_type": "code",
   "execution_count": 19,
   "id": "e7a4e18a",
   "metadata": {},
   "outputs": [],
   "source": [
    "obj = tree.pup"
   ]
  },
  {
   "cell_type": "code",
   "execution_count": 20,
   "id": "ebc1d69c",
   "metadata": {},
   "outputs": [
    {
     "data": {
      "text/plain": [
       "38"
      ]
     },
     "execution_count": 20,
     "metadata": {},
     "output_type": "execute_result"
    }
   ],
   "source": [
    "len(obj)"
   ]
  },
  {
   "cell_type": "code",
   "execution_count": null,
   "id": "642c998f",
   "metadata": {},
   "outputs": [],
   "source": []
  },
  {
   "cell_type": "code",
   "execution_count": null,
   "id": "103893b9",
   "metadata": {},
   "outputs": [],
   "source": []
  }
 ],
 "metadata": {
  "kernelspec": {
   "display_name": "Python 3 (ipykernel)",
   "language": "python",
   "name": "python3"
  },
  "language_info": {
   "codemirror_mode": {
    "name": "ipython",
    "version": 3
   },
   "file_extension": ".py",
   "mimetype": "text/x-python",
   "name": "python",
   "nbconvert_exporter": "python",
   "pygments_lexer": "ipython3",
   "version": "3.9.6"
  }
 },
 "nbformat": 4,
 "nbformat_minor": 5
}
